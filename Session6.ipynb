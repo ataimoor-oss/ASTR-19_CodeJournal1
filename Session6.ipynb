{
 "cells": [
  {
   "cell_type": "markdown",
   "id": "c3b9279b",
   "metadata": {},
   "source": [
    "# Session 6 \n",
    "# Create a Jupyter Notebook where, in separate cells, you define functions that return sin(x) and cos(x).  Use Markdown cells to comment your Notebook, and describe what each function does. Create a third Python cell that will tabulate sin(x) and cos(x) using these previously defined functions vs. x, where x is tabulated between 0 and 2 with a thousand entries. Write a fourth Python cell that will use a for loop to print out the first 10 values of x, sin(x), and cos(x) in columns."
   ]
  },
  {
   "cell_type": "code",
   "execution_count": 1,
   "id": "2c5a6d94",
   "metadata": {},
   "outputs": [],
   "source": [
    "import math \n",
    "\n",
    "# return the sin of x\n",
    "def sin_func(x):\n",
    "    return math.sin(x)"
   ]
  },
  {
   "cell_type": "code",
   "execution_count": 2,
   "id": "582da027",
   "metadata": {},
   "outputs": [],
   "source": [
    "import math \n",
    "\n",
    "# return the cosin of x \n",
    "def cos_func(x):\n",
    "    return math.cos(x)"
   ]
  },
  {
   "cell_type": "code",
   "execution_count": null,
   "id": "5587742b",
   "metadata": {},
   "outputs": [],
   "source": [
    "import numpy as np \n",
    "\n",
    "x_val = np.linspace(0, 2, 1000)\n",
    "sin_val = [sin_func(x) for x in x_val]\n",
    "cos_val = [cos_func(x) for x in x_val]\n",
    "\n",
    "print(\"x\\n sin(x)\\n cos(x)\")\n",
    "for i in range(10):\n",
    "    print(f\"{x_val[i]:.3f}\\n {sin_val[i]:.3f}\\n {cos_val[i]:.3f}\")"
   ]
  }
 ],
 "metadata": {
  "kernelspec": {
   "display_name": "Python 3",
   "language": "python",
   "name": "python3"
  },
  "language_info": {
   "codemirror_mode": {
    "name": "ipython",
    "version": 3
   },
   "file_extension": ".py",
   "mimetype": "text/x-python",
   "name": "python",
   "nbconvert_exporter": "python",
   "pygments_lexer": "ipython3",
   "version": "3.11.2"
  }
 },
 "nbformat": 4,
 "nbformat_minor": 5
}
