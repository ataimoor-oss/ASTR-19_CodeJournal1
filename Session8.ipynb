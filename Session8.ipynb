{
 "cells": [
  {
   "cell_type": "markdown",
   "id": "3e57df2f",
   "metadata": {},
   "source": [
    "#Session 8 \n",
    "# Create a Jupyter notebook, import matplotlib. Write cells that create an array x ranging from [0,1] in 100 steps and that defines functions that return sin(x) and cos(x).  In a new cell use to create a multipanel plot (1 row, 2 columns), plotting sin(x) vs. x in the left panel and cos(x) vs. x in the right panel. Label the panels with sin(x) and cos(x), and save the figure as a PDF."
   ]
  },
  {
   "cell_type": "code",
   "execution_count": null,
   "id": "193c4041",
   "metadata": {},
   "outputs": [],
   "source": [
    "import numpy as np \n",
    "import matplotlib.pyplot as plt "
   ]
  },
  {
   "cell_type": "code",
   "execution_count": null,
   "id": "62dc6583",
   "metadata": {},
   "outputs": [],
   "source": [
    "x = np.linspace(0, 1, 100)\n",
    "\n",
    "def sin(x):\n",
    "    return np.sin(x)\n",
    "\n",
    "def cos(x):\n",
    "    return np.cos(x)"
   ]
  },
  {
   "cell_type": "markdown",
   "id": "58495bb5",
   "metadata": {},
   "source": [
    "#Defining y functions"
   ]
  },
  {
   "cell_type": "code",
   "execution_count": null,
   "id": "f6c668be",
   "metadata": {},
   "outputs": [],
   "source": [
    "y_sin = sin(x)\n",
    "y_cos = cos(x)"
   ]
  },
  {
   "cell_type": "markdown",
   "id": "b15b2f49",
   "metadata": {},
   "source": [
    "#Plotting the x and y"
   ]
  },
  {
   "cell_type": "code",
   "execution_count": null,
   "id": "d66b7c3c",
   "metadata": {},
   "outputs": [],
   "source": [
    "figure, axis = plt.subplots(1, 2 figsize(5, 5))\n",
    "\n",
    "axis[0].plot(x, y_sin, color = 'purple', linewidth = 2)\n",
    "axis[0].title(\"sin(x) vs. x\")\n",
    "axis[0].xlabel(\"x\")\n",
    "axis[0].ylabel(\"y_sin\")\n",
    "axis[0].grid(True)\n",
    "\n",
    "axis[1].plot(x, y_cos, color = 'yellow', linewidth = 2)\n",
    "axis[1].title(\"cos(x) vs. x\")\n",
    "axis[1].xlabel(\"x\")\n",
    "axis[1].ylabel(\"y_cos\")\n",
    "axis[1].grid(True)"
   ]
  },
  {
   "cell_type": "markdown",
   "id": "6943f32b",
   "metadata": {},
   "source": [
    "#pdf publishing"
   ]
  },
  {
   "cell_type": "code",
   "execution_count": null,
   "id": "35ce7132",
   "metadata": {},
   "outputs": [],
   "source": [
    "plt.tight_layout()\n",
    "plt.savefig(\"Session8_sin_cos_figure.pdf\")\n",
    "plt.show()"
   ]
  }
 ],
 "metadata": {
  "language_info": {
   "name": "python"
  }
 },
 "nbformat": 4,
 "nbformat_minor": 5
}
