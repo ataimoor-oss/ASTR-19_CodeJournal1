{
 "cells": [
  {
   "cell_type": "markdown",
   "id": "96321d86",
   "metadata": {},
   "source": [
    "#Session 9\n",
    "# Create a Jupyter notebook, import matplotlib. Use numpy to pull 1000 random numbers distributed uniformly between [0,1]. Histogram the random numbers into 100 bins, and plot the histogram. Label your axes and save the figure as a PDF"
   ]
  },
  {
   "cell_type": "code",
   "execution_count": null,
   "id": "a423b5bf",
   "metadata": {},
   "outputs": [],
   "source": [
    "import numpy as np\n",
    "import matplotlib.pyplot as plt"
   ]
  },
  {
   "cell_type": "code",
   "execution_count": null,
   "id": "1a563728",
   "metadata": {},
   "outputs": [],
   "source": [
    "rand_nums = np.rand_uniform(0, 1, 1000)"
   ]
  },
  {
   "cell_type": "markdown",
   "id": "b3b20abe",
   "metadata": {},
   "source": [
    "#Plotting the data"
   ]
  },
  {
   "cell_type": "code",
   "execution_count": null,
   "id": "fd433cbf",
   "metadata": {},
   "outputs": [],
   "source": [
    "plt.figure(figsize(5, 5))\n",
    "plt.hist(rand_nums, bins = 100, color = 'pink')\n",
    "plt.xlabel(\"Vals\")\n",
    "plt.ylabel(\"Frequency\")\n",
    "plt.title(\"My histogram\")\n",
    "plt.grid(True)"
   ]
  },
  {
   "cell_type": "markdown",
   "id": "cbaeab7e",
   "metadata": {},
   "source": [
    "#Publishing the pdf"
   ]
  },
  {
   "cell_type": "code",
   "execution_count": null,
   "id": "582810de",
   "metadata": {},
   "outputs": [],
   "source": [
    "plt.tight_layout()\n",
    "plt.savefig(\"Session9_histogram_figure.pdf\")\n",
    "plt.show()"
   ]
  }
 ],
 "metadata": {
  "language_info": {
   "name": "python"
  }
 },
 "nbformat": 4,
 "nbformat_minor": 5
}
