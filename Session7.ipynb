{
 "cells": [
  {
   "cell_type": "markdown",
   "id": "7fbb4843",
   "metadata": {},
   "source": [
    "#Session 7 \n",
    "# Create a Jupyter notebook, import matplotlib. Write cells that create an array x ranging from [0,1] in 100 steps and that defines a function that returns exp(x).  In a new cell use the function to set y=exp(x), and then plot x vs. y. Label the x-axis as “Time [milliseconds]” and the y-axis as “Awesomeness”. Save the figure as a PDF.  \n"
   ]
  },
  {
   "cell_type": "code",
   "execution_count": null,
   "id": "41c038d9",
   "metadata": {},
   "outputs": [],
   "source": [
    "import numpy as np\n",
    "import matplotlib.pyplot as plt"
   ]
  },
  {
   "cell_type": "code",
   "execution_count": null,
   "id": "415703b2",
   "metadata": {},
   "outputs": [],
   "source": [
    "x = np.linspace(0, 1, 100)\n",
    "\n",
    "def my_exp(x):\n",
    "    return np.exp(x)"
   ]
  },
  {
   "cell_type": "code",
   "execution_count": null,
   "id": "2fcffa64",
   "metadata": {},
   "outputs": [],
   "source": [
    "y = my_exp(x)"
   ]
  },
  {
   "cell_type": "markdown",
   "id": "c34478a2",
   "metadata": {},
   "source": [
    "#Plotting the defined x and y "
   ]
  },
  {
   "cell_type": "code",
   "execution_count": null,
   "id": "e99a5528",
   "metadata": {},
   "outputs": [],
   "source": [
    "plt.figure(figsize=(5,5))\n",
    "plt.plot(x, y, color='pink', linewidth = 1)\n",
    "\n",
    "plt.xlabel(\"Time 'milliseconds'\")\n",
    "plt.ylabel(\"Awesomeness\")\n",
    "plt.title(\"Growth Graph y = exp(x)\")\n",
    "plt.grid(True)"
   ]
  },
  {
   "cell_type": "markdown",
   "id": "da9ac5c3",
   "metadata": {},
   "source": [
    "#pdf publishing "
   ]
  },
  {
   "cell_type": "code",
   "execution_count": null,
   "id": "1e6d4bd8",
   "metadata": {},
   "outputs": [],
   "source": [
    "plt.tight_layout()\n",
    "plt.savefig(\"Session7_exp_figure.pdf\")\n",
    "plt.show()"
   ]
  }
 ],
 "metadata": {
  "language_info": {
   "name": "python"
  }
 },
 "nbformat": 4,
 "nbformat_minor": 5
}
