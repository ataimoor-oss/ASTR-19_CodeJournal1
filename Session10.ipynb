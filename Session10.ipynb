{
 "cells": [
  {
   "cell_type": "markdown",
   "id": "92f8fa55",
   "metadata": {},
   "source": [
    "#Session 10 \n",
    "\n",
    "# Create a Jupyter notebook, import matplotlib. On the numpy website, read about the random number distributions available for pulling random variates.  Select your favorite distribution (other than uniform) and pull 1000 random numbers from that distribution. Histogram the random numbers into 100 bins, and plot the histogram. Label your axes and save the figure as a PDF."
   ]
  },
  {
   "cell_type": "code",
   "execution_count": null,
   "id": "0dfd876d",
   "metadata": {},
   "outputs": [],
   "source": [
    "import numpy as np\n",
    "import matplotlib.pyplot as plt"
   ]
  },
  {
   "cell_type": "markdown",
   "id": "b41856fc",
   "metadata": {},
   "source": [
    "#I saw and liked the Guassian distribution \n",
    "#It was also easy to implement "
   ]
  },
  {
   "cell_type": "code",
   "execution_count": null,
   "id": "d9ca7f96",
   "metadata": {},
   "outputs": [],
   "source": [
    "rand_nums = np.rand_uniform(loc = 0, scale = 1, size = 1000)"
   ]
  },
  {
   "cell_type": "markdown",
   "id": "25a5e6be",
   "metadata": {},
   "source": [
    "#Plotting the data"
   ]
  },
  {
   "cell_type": "code",
   "execution_count": null,
   "id": "94fe09ba",
   "metadata": {},
   "outputs": [],
   "source": [
    "plt.figure(figsize(5, 5))\n",
    "plt.hist(rand_nums, bins = 100, color = 'pink')\n",
    "plt.xlabel(\"Vals\")\n",
    "plt.ylabel(\"Frequency\")\n",
    "plt.title(\"My Gaussian histogram\")\n",
    "plt.grid(True)"
   ]
  },
  {
   "cell_type": "markdown",
   "id": "03d8b01b",
   "metadata": {},
   "source": [
    "#Publishing the pdf"
   ]
  },
  {
   "cell_type": "code",
   "execution_count": null,
   "id": "900d4b6f",
   "metadata": {},
   "outputs": [],
   "source": [
    "plt.tight_layout()\n",
    "plt.savefig(\"Session10_Guassian_histogram_figure.pdf\")\n",
    "plt.show()"
   ]
  }
 ],
 "metadata": {
  "language_info": {
   "name": "python"
  }
 },
 "nbformat": 4,
 "nbformat_minor": 5
}
